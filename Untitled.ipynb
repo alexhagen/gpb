{
 "cells": [
  {
   "cell_type": "code",
   "execution_count": 1,
   "metadata": {},
   "outputs": [
    {
     "data": {
      "image/svg+xml": [
       "<svg baseProfile=\"full\" height=\"20\" version=\"1.1\" width=\"300.0\" xmlns=\"http://www.w3.org/2000/svg\" xmlns:ev=\"http://www.w3.org/2001/xml-events\" xmlns:xlink=\"http://www.w3.org/1999/xlink\"><defs/><rect fill=\"none\" height=\"20\" stroke=\"black\" width=\"250.0\" x=\"0\" y=\"0\"/><rect fill=\"red\" height=\"20\" width=\"247.5\" x=\"0\" y=\"0\"/><text fill=\"black\" x=\"265.0\" y=\"15\">99 %</text></svg>"
      ],
      "text/plain": [
       "<IPython.core.display.SVG object>"
      ]
     },
     "metadata": {},
     "output_type": "display_data"
    },
    {
     "data": {
      "text/html": [
       "<img src=\"img/prog_bar_99.png?134816473\" />"
      ],
      "text/plain": [
       "<IPython.core.display.HTML object>"
      ]
     },
     "metadata": {},
     "output_type": "display_data"
    }
   ],
   "source": [
    "import svgwrite\n",
    "import numpy as np\n",
    "import os\n",
    "width = 300.0\n",
    "for perc in np.arange(0., 100., 1.):\n",
    "    fname = 'img/prog_bar_%02d' % perc\n",
    "    dwg = svgwrite.Drawing(fname + '.svg', size=(width, 20))\n",
    "    dwg.add(dwg.rect(insert=(0, 0), size=(width - 50.0, 20), fill='none', stroke='black'))\n",
    "    dwg.add(dwg.rect(insert=(0, 0), size=(perc * (width - 50.0) / 100.0, 20), fill='red'))\n",
    "    dwg.add(dwg.text('%d %%' % perc, insert=(width - 35.0, 15), fill='black'))\n",
    "    #dwg.save()\n",
    "    curr_dir = os.getcwd()\n",
    "    #os.system('/Applications/Inkscape.app/Contents/Resources/bin/inkscape -z ' +\n",
    "    #          '-e %s.png -w 600 -h 40 %s.svg' % (os.path.join(curr_dir, fname), os.path.join(curr_dir, fname)))\n",
    "from IPython.display import display, SVG, HTML\n",
    "import random\n",
    "display(SVG(open('img/prog_bar_99.svg', 'r').read()))\n",
    "display(HTML('<img src=\"img/prog_bar_99.png?%d\" />' % random.randint(0, 1e9)))"
   ]
  },
  {
   "cell_type": "code",
   "execution_count": null,
   "metadata": {},
   "outputs": [],
   "source": [
    "import objc\n",
    "import re\n",
    "from Foundation import *\n",
    "from AppKit import *\n",
    "from PyObjCTools import AppHelper\n",
    "\n",
    "# poach one of the iSync internal images to get things rolling\n",
    "status_images = ['/Users/hage581/code/gpb/img/prog_bar_%02d.png' % perc for perc in np.arange(0., 100., 1.)]\n",
    "\n",
    "start_time = NSDate.date()\n",
    "\n",
    "class App(NSObject):\n",
    "    images = {}\n",
    "    statusbar = None\n",
    "    state = 'idle'\n",
    "\n",
    "    def applicationDidFinishLaunching_(self, notification):\n",
    "        statusbar = NSStatusBar.systemStatusBar()\n",
    "        #print dir(statusbar)\n",
    "        # Create the statusbar item\n",
    "        self.statusitem = statusbar.statusItemWithLength_(250)#NSVariableStatusItemLength)\n",
    "        # Load all images\n",
    "        for i, img in enumerate(status_images):\n",
    "            self.images['%02d' % i] = NSImage.alloc().initByReferencingFile_(status_images[i])\n",
    "        #print self.images\n",
    "        # Set initial image\n",
    "        self.statusitem.setImage_(self.images['00'])\n",
    "        self.statusitem.setTitle_(\"0%\")\n",
    "        # Let it highlight upon clicking\n",
    "        self.statusitem.setHighlightMode_(1)\n",
    "        # Set a tooltip\n",
    "        self.statusitem.setToolTip_('Sync Trigger')\n",
    "        self.count = 0\n",
    "\n",
    "        # Build a very simple menu\n",
    "        self.menu = NSMenu.alloc().init()\n",
    "        # Default event\n",
    "        menuitem = NSMenuItem.alloc().initWithTitle_action_keyEquivalent_('Quit', 'terminate:', '')\n",
    "        self.menu.addItem_(menuitem)\n",
    "        # Bind it to the status item\n",
    "        self.statusitem.setMenu_(self.menu)\n",
    "\n",
    "        # Get the timer going\n",
    "        self.timer = NSTimer.alloc().initWithFireDate_interval_target_selector_userInfo_repeats_(start_time, 1.0, self, 'tick:', None, True)\n",
    "        NSRunLoop.currentRunLoop().addTimer_forMode_(self.timer, NSDefaultRunLoopMode)\n",
    "        self.timer.fire()\n",
    "\n",
    "    def tick_(self, notification):\n",
    "        self.statusitem.setTitle_(\"%3d %%\" % self.count)\n",
    "        self.statusitem.setImage_(self.images['%02d' % self.count])\n",
    "        self.count += 1\n",
    "\n",
    "if __name__ == \"__main__\":\n",
    "    app = NSApplication.sharedApplication()\n",
    "    delegate = App.alloc().init()\n",
    "    app.setDelegate_(delegate)\n",
    "    AppHelper.runEventLoop()"
   ]
  },
  {
   "cell_type": "code",
   "execution_count": null,
   "metadata": {},
   "outputs": [],
   "source": []
  }
 ],
 "metadata": {
  "kernelspec": {
   "display_name": "Python 2",
   "language": "python",
   "name": "python2"
  },
  "language_info": {
   "codemirror_mode": {
    "name": "ipython",
    "version": 2
   },
   "file_extension": ".py",
   "mimetype": "text/x-python",
   "name": "python",
   "nbconvert_exporter": "python",
   "pygments_lexer": "ipython2",
   "version": "2.7.15"
  },
  "toc": {
   "base_numbering": 1,
   "nav_menu": {},
   "number_sections": true,
   "sideBar": false,
   "skip_h1_title": false,
   "title_cell": "Table of Contents",
   "title_sidebar": "Contents",
   "toc_cell": false,
   "toc_position": {},
   "toc_section_display": true,
   "toc_window_display": false
  }
 },
 "nbformat": 4,
 "nbformat_minor": 2
}
